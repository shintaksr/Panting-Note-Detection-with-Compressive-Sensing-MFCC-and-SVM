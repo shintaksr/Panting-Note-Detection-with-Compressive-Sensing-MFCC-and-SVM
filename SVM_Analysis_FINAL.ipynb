{
  "nbformat": 4,
  "nbformat_minor": 0,
  "metadata": {
    "colab": {
      "name": "SVM_Analysis_FINAL.ipynb",
      "provenance": [],
      "authorship_tag": "ABX9TyO3EnXpwJqxrrBjAOMoF+Fu",
      "include_colab_link": true
    },
    "kernelspec": {
      "name": "python3",
      "display_name": "Python 3"
    },
    "language_info": {
      "name": "python"
    }
  },
  "cells": [
    {
      "cell_type": "markdown",
      "metadata": {
        "id": "view-in-github",
        "colab_type": "text"
      },
      "source": [
        "<a href=\"https://colab.research.google.com/github/shintaksr/Panting-Note-Detection-with-Compressive-Sensing-MFCC-and-SVM/blob/main/SVM_Analysis_FINAL.ipynb\" target=\"_parent\"><img src=\"https://colab.research.google.com/assets/colab-badge.svg\" alt=\"Open In Colab\"/></a>"
      ]
    },
    {
      "cell_type": "markdown",
      "source": [
        "Analisa perbandingan hasil dari SVM dengan kernel Linear, Poly dan RBF"
      ],
      "metadata": {
        "id": "N88cvtgi8-Rb"
      }
    },
    {
      "cell_type": "code",
      "execution_count": null,
      "metadata": {
        "id": "PgdODVXU8qB-",
        "colab": {
          "base_uri": "https://localhost:8080/"
        },
        "outputId": "ded5bf48-1131-42ef-a56e-0f4feb17706d"
      },
      "outputs": [
        {
          "output_type": "stream",
          "name": "stdout",
          "text": [
            "Mounted at /content/drive\n"
          ]
        }
      ],
      "source": [
        "from google.colab import drive\n",
        "drive.mount('/content/drive')"
      ]
    },
    {
      "cell_type": "code",
      "source": [
        "import pandas as pd\n",
        "import numpy as np\n",
        "import seaborn as sns\n",
        "import matplotlib.pyplot as plt\n",
        "import time\n",
        "\n",
        "from sklearn.svm import SVC\n",
        "from sklearn.preprocessing import StandardScaler, LabelEncoder\n",
        "from sklearn.model_selection import train_test_split\n",
        "from sklearn.metrics import confusion_matrix, classification_report,plot_confusion_matrix, accuracy_score, f1_score, mean_absolute_error\n"
      ],
      "metadata": {
        "id": "52ACmj-g86Ny"
      },
      "execution_count": null,
      "outputs": []
    },
    {
      "cell_type": "markdown",
      "source": [
        "# **Load Data**\n",
        "\n"
      ],
      "metadata": {
        "id": "n_WOmDLW9UFt"
      }
    },
    {
      "cell_type": "code",
      "source": [
        "ukuran_test = 0.35\n",
        "\n",
        "def load_data(skenario):\n",
        "  Features = pd.read_csv(skenario)\n",
        "  \n",
        "  nada_list = Features.iloc[:, -1]\n",
        "\n",
        "  # tronsforming non numerical labels to numerical\n",
        "  encoder = LabelEncoder()\n",
        "  Y = encoder.fit_transform(nada_list)\n",
        "\n",
        "  scaler = StandardScaler()\n",
        "  X = scaler.fit_transform(np.array(Features.iloc[:, :-1], dtype = float))\n",
        "  \n",
        "  X_train, X_test, y_train, y_test = train_test_split(X, Y,\n",
        "                                                    random_state=42,\n",
        "                                                    test_size = ukuran_test)\n",
        "\n",
        "  return X_train, y_train, X_test, y_test"
      ],
      "metadata": {
        "id": "vlNlWxrgO0pO"
      },
      "execution_count": null,
      "outputs": []
    },
    {
      "cell_type": "markdown",
      "source": [
        "# **SVM**"
      ],
      "metadata": {
        "id": "PoO67U7ATaQp"
      }
    },
    {
      "cell_type": "markdown",
      "source": [
        "## **Linear**"
      ],
      "metadata": {
        "id": "yQAyBGBVTiPS"
      }
    },
    {
      "cell_type": "code",
      "source": [
        "def kernel_linear(X_train, y_train, X_test, y_test):\n",
        "  linear_svm = SVC(kernel = 'linear')\n",
        "  linear_svm.fit(X_train, y_train)\n",
        "\n",
        "  #Train the model using the training sets\n",
        "  linear_svm.fit(X_train, y_train)\n",
        "\n",
        "  #Predict the response for test dataset\n",
        "  y_pred_L = linear_svm.predict(X_test)\n",
        "\n",
        "  # hitung akurasi\n",
        "  akurasi_train_L = linear_svm.score(X_train, y_train)\n",
        "  akurasi_test_L = linear_svm.score(X_test, y_test)\n",
        "\n",
        "  return y_pred_L, akurasi_train_L, akurasi_test_L"
      ],
      "metadata": {
        "id": "ZsbYvPXQSl7q"
      },
      "execution_count": null,
      "outputs": []
    },
    {
      "cell_type": "markdown",
      "source": [
        "## **Polynomial**"
      ],
      "metadata": {
        "id": "o79-CdsnUN8o"
      }
    },
    {
      "cell_type": "code",
      "source": [
        "def kernel_poly(X_train, y_train, X_test, y_test):\n",
        "  poly_svm = SVC(kernel = 'poly')\n",
        "  poly_svm.fit(X_train, y_train)\n",
        "\n",
        "\n",
        "  #Train the model using the training sets\n",
        "  poly_svm.fit(X_train, y_train)\n",
        "\n",
        "  #Predict the response for test dataset\n",
        "  y_pred_P = poly_svm.predict(X_test)\n",
        "\n",
        "  # hitung akurasi\n",
        "  akurasi_train_P = poly_svm.score(X_train, y_train)\n",
        "  akurasi_test_P = poly_svm.score(X_test, y_test)\n",
        "\n",
        "  return y_pred_P, akurasi_train_P, akurasi_test_P"
      ],
      "metadata": {
        "id": "WanYjOtzUNIG"
      },
      "execution_count": null,
      "outputs": []
    },
    {
      "cell_type": "markdown",
      "source": [
        "## **RBF**"
      ],
      "metadata": {
        "id": "CNYSkHxzUvN-"
      }
    },
    {
      "cell_type": "code",
      "source": [
        "def kernel_rbf(X_train, y_train, X_test, y_test):\n",
        "  rbf_svm = SVC(kernel = 'rbf')\n",
        "  rbf_svm.fit(X_train, y_train)\n",
        "\n",
        "\n",
        "  #Train the model using the training sets\n",
        "  rbf_svm.fit(X_train, y_train)\n",
        "\n",
        "  #Predict the response for test dataset\n",
        "  y_pred_R = rbf_svm.predict(X_test)\n",
        "\n",
        "  # hitung akurasi\n",
        "  akurasi_train_R = rbf_svm.score(X_train, y_train)\n",
        "  akurasi_test_R = rbf_svm.score(X_test, y_test)\n",
        "\n",
        "  return y_pred_R, akurasi_train_R, akurasi_test_R"
      ],
      "metadata": {
        "id": "BKes6rcqUw-T"
      },
      "execution_count": null,
      "outputs": []
    },
    {
      "cell_type": "markdown",
      "source": [
        "## **Evaluasi Model**"
      ],
      "metadata": {
        "id": "cE80DY82U2Nd"
      }
    },
    {
      "cell_type": "code",
      "source": [
        "# LOAD DATA\n",
        "\n",
        "skenario1 = '/content/drive/MyDrive/S1/EXTRACTED FEATURES IN CSV/features_original.csv'\n",
        "skenario2 = '/content/drive/MyDrive/S1/EXTRACTED FEATURES IN CSV/features_cs_394.csv'\n",
        "skenario3 = '/content/drive/MyDrive/S1/EXTRACTED FEATURES IN CSV/features_cs_788.csv'\n",
        "skenario4 = '/content/drive/MyDrive/S1/EXTRACTED FEATURES IN CSV/features_cs_1575.csv'\n",
        "skenario5 = '/content/drive/MyDrive/S1/EXTRACTED FEATURES IN CSV/features_cs_3150.csv'\n",
        "skenario6 = '/content/drive/MyDrive/S1/EXTRACTED FEATURES IN CSV/features_cs_6300.csv'\n",
        "\n",
        "# hitung durasi load data\n",
        "start_load = time.time()\n",
        "X_train, y_train, X_test, y_test = load_data(skenario6)   # ganti dataset disini\n",
        "end_load = time.time()\n",
        "total_time_load = end_load - start_load\n",
        "\n",
        "\n",
        "# SVM LINEAR\n",
        "# hitung durasi svm linear\n",
        "start_L = time.time()\n",
        "y_pred_L, akurasi_train_L, akurasi_test_L = kernel_linear(X_train, y_train, X_test, y_test)\n",
        "end_L = time.time()\n",
        "total_time_L = total_time_load + end_L - start_L\n",
        "\n",
        "\n",
        "# SVM POLY\n",
        "# hitung durasi svm poly\n",
        "start_P = time.time()\n",
        "y_pred_P, akurasi_train_P, akurasi_test_P = kernel_poly(X_train, y_train, X_test, y_test)\n",
        "end_P = time.time()\n",
        "total_time_P = total_time_load + end_P - start_P\n",
        "\n",
        "\n",
        "# SVM RBF\n",
        "# hitung durasi svm rbf\n",
        "start_R = time.time()\n",
        "y_pred_R, akurasi_train_R, akurasi_test_R = kernel_rbf(X_train, y_train, X_test, y_test)\n",
        "end_R = time.time()\n",
        "total_time_R = total_time_load + end_R - start_R\n"
      ],
      "metadata": {
        "id": "R6Tw1_tlU7Mo"
      },
      "execution_count": null,
      "outputs": []
    },
    {
      "cell_type": "markdown",
      "source": [
        "## **Hasil Evaluasi Model**"
      ],
      "metadata": {
        "id": "St8LIiZvY6Ab"
      }
    },
    {
      "cell_type": "code",
      "source": [
        "def hasil_eval(X_train, y_train, X_test, y_test, y_pred, akurasi_train, akurasi_test):\n",
        "  print('Training set accuracy: {:.2f}%'.format(akurasi_train*100))\n",
        "  print('Test set accuracy: {:.2f}%'.format(akurasi_test*100))\n",
        "  \n",
        "  f1 = f1_score(y_test, y_pred, average='weighted')\n",
        "  print(\"F1-Score : {:.2f}%\".format(f1*100))\n",
        "  mae = mean_absolute_error(y_test, y_pred)\n",
        "  print('MAE : {:.3f}'.format(mae))\n",
        "\n",
        "  return"
      ],
      "metadata": {
        "id": "Y3IPDSMjYgia"
      },
      "execution_count": null,
      "outputs": []
    },
    {
      "cell_type": "code",
      "source": [
        "print('----------------------- SVM LINEAR -----------------------')\n",
        "hasil_eval(X_train, y_train, X_test, y_test, y_pred_L, akurasi_train_L, akurasi_test_L)\n",
        "print('Durasi : {:.4f} Sekon'.format(float(total_time_L)))\n",
        "\n",
        "print('\\n\\n--------------------- SVM POLYNOMIAL ---------------------')\n",
        "hasil_eval(X_train, y_train, X_test, y_test, y_pred_P, akurasi_train_P, akurasi_test_P)\n",
        "print('Durasi : {:.4f} Sekon'.format(float(total_time_P)))\n",
        "\n",
        "print('\\n\\n------------------------- SVM RBF -------------------------')\n",
        "hasil_eval(X_train, y_train, X_test, y_test, y_pred_R, akurasi_train_R, akurasi_test_R)\n",
        "print('Durasi : {:.4f} Sekon'.format(float(total_time_R)))"
      ],
      "metadata": {
        "colab": {
          "base_uri": "https://localhost:8080/"
        },
        "id": "ak64S0CcaN39",
        "outputId": "34474c0a-2bfe-4f4d-ac51-8184c16ad361"
      },
      "execution_count": null,
      "outputs": [
        {
          "output_type": "stream",
          "name": "stdout",
          "text": [
            "----------------------- SVM LINEAR -----------------------\n",
            "Training set accuracy: 100.00%\n",
            "Test set accuracy: 98.64%\n",
            "F1-Score : 98.63%\n",
            "MAE : 0.027\n",
            "Durasi : 0.0755 Sekon\n",
            "\n",
            "\n",
            "--------------------- SVM POLYNOMIAL ---------------------\n",
            "Training set accuracy: 68.13%\n",
            "Test set accuracy: 47.62%\n",
            "F1-Score : 51.50%\n",
            "MAE : 1.075\n",
            "Durasi : 0.1137 Sekon\n",
            "\n",
            "\n",
            "------------------------- SVM RBF -------------------------\n",
            "Training set accuracy: 98.53%\n",
            "Test set accuracy: 93.20%\n",
            "F1-Score : 93.31%\n",
            "MAE : 0.218\n",
            "Durasi : 0.1259 Sekon\n"
          ]
        }
      ]
    },
    {
      "cell_type": "markdown",
      "source": [
        "### **Confusion Matrix**"
      ],
      "metadata": {
        "id": "qcBV87KClkFQ"
      }
    },
    {
      "cell_type": "code",
      "source": [
        "from sklearn.metrics import confusion_matrix, classification_report,plot_confusion_matrix, accuracy_score, f1_score, mean_squared_error\n",
        "\n",
        "cm_L = confusion_matrix(y_test, y_pred_L)\n",
        "cm_P = confusion_matrix(y_test, y_pred_P)\n",
        "cm_R = confusion_matrix(y_test, y_pred_R)"
      ],
      "metadata": {
        "id": "G2N40llX99Oy"
      },
      "execution_count": null,
      "outputs": []
    },
    {
      "cell_type": "code",
      "source": [
        "cmL = sns.heatmap(cm_L, annot=True, cmap='YlGn_r')\n",
        "\n",
        "cmL.set_title('Confusion Matrix SVM Linear')\n",
        "cmL.set_xlabel('\\nPredicted Values')\n",
        "cmL.set_ylabel('Actual Values ')\n",
        "\n",
        "plt.show()"
      ],
      "metadata": {
        "colab": {
          "base_uri": "https://localhost:8080/",
          "height": 307
        },
        "id": "BOjheOQ8m1BY",
        "outputId": "1ef22ea5-f7b0-4b31-b668-736a6ea66355"
      },
      "execution_count": null,
      "outputs": [
        {
          "output_type": "display_data",
          "data": {
            "text/plain": [
              "<Figure size 432x288 with 2 Axes>"
            ],
            "image/png": "[encoded data removed]"
          },
          "metadata": {
            "needs_background": "light"
          }
        }
      ]
    },
    {
      "cell_type": "code",
      "source": [
        "cmP = sns.heatmap(cm_P, annot=True, cmap='YlGn_r')\n",
        "\n",
        "cmP.set_title('Confusion Matrix SVM Polynomial')\n",
        "cmP.set_xlabel('\\nPredicted Values')\n",
        "cmP.set_ylabel('Actual Values ')\n",
        "\n",
        "plt.show()"
      ],
      "metadata": {
        "colab": {
          "base_uri": "https://localhost:8080/",
          "height": 307
        },
        "id": "I1HgWMP-on1E",
        "outputId": "2aab279e-4b26-4928-d55d-29af79ce554c"
      },
      "execution_count": null,
      "outputs": [
        {
          "output_type": "display_data",
          "data": {
            "text/plain": [
              "<Figure size 432x288 with 2 Axes>"
            ],
            "image/png": "[encoded data removed]"
          },
          "metadata": {
            "needs_background": "light"
          }
        }
      ]
    },
    {
      "cell_type": "code",
      "source": [
        "cmR = sns.heatmap(cm_R, annot=True, cmap='YlGn_r')\n",
        "\n",
        "cmR.set_title('Confusion Matrix SVM RBF')\n",
        "cmR.set_xlabel('\\nPredicted Values')\n",
        "cmR.set_ylabel('Actual Values ')\n",
        "\n",
        "plt.show()"
      ],
      "metadata": {
        "colab": {
          "base_uri": "https://localhost:8080/",
          "height": 307
        },
        "id": "LNqbiNzqp51s",
        "outputId": "5bf9c640-2411-4713-d06c-b12e7296fb41"
      },
      "execution_count": null,
      "outputs": [
        {
          "output_type": "display_data",
          "data": {
            "text/plain": [
              "<Figure size 432x288 with 2 Axes>"
            ],
            "image/png": "[encoded data removed]"
          },
          "metadata": {
            "needs_background": "light"
          }
        }
      ]
    },
    {
      "cell_type": "code",
      "source": [],
      "metadata": {
        "id": "45SUeluZqETz"
      },
      "execution_count": null,
      "outputs": []
    }
  ]
}